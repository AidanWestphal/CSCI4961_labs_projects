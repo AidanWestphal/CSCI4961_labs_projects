{
 "cells": [
  {
   "cell_type": "code",
   "execution_count": 1,
   "id": "25b394d8-b3a4-4d3f-bc89-8a3ddc2d5964",
   "metadata": {
    "tags": []
   },
   "outputs": [],
   "source": [
    "import numpy as np\n",
    "import matplotlib.pyplot as plt\n",
    "\n",
    "from torch import Tensor\n",
    "from torch.nn import Linear, CrossEntropyLoss, MSELoss\n",
    "from torch.optim import LBFGS\n",
    "\n",
    "from qiskit import QuantumCircuit\n",
    "from qiskit.circuit import Parameter\n",
    "from qiskit.circuit.library import RealAmplitudes, ZZFeatureMap\n",
    "from qiskit_algorithms.utils import algorithm_globals\n",
    "from qiskit_machine_learning.neural_networks import SamplerQNN, EstimatorQNN\n",
    "from qiskit_machine_learning.connectors import TorchConnector\n",
    "\n",
    "# Set seed for random generators\n",
    "algorithm_globals.random_seed = 42"
   ]
  },
  {
   "cell_type": "code",
   "execution_count": 2,
   "id": "30091f9b-9ea3-4606-80ee-7fd929f521fd",
   "metadata": {
    "tags": []
   },
   "outputs": [],
   "source": [
    "# Additional torch-related imports\n",
    "import torch\n",
    "from torch import cat, no_grad, manual_seed\n",
    "from torch.utils.data import DataLoader, random_split, Subset\n",
    "from torchvision import datasets, transforms\n",
    "import torch.optim as optim\n",
    "from torch.nn import (\n",
    "    Module,\n",
    "    Conv2d,\n",
    "    Linear,\n",
    "    Dropout2d,\n",
    "    NLLLoss,\n",
    "    MaxPool2d,\n",
    "    Flatten,\n",
    "    Sequential,\n",
    "    ReLU,\n",
    ")\n",
    "import torch.nn.functional as F"
   ]
  },
  {
   "cell_type": "code",
   "execution_count": 3,
   "id": "70bf85e7-9685-4c4b-936a-533922321db0",
   "metadata": {
    "tags": []
   },
   "outputs": [
    {
     "name": "stdout",
     "output_type": "stream",
     "text": [
      "Train subset size: 800\n",
      "Valid subset size: 200\n",
      "Test subset size: 500\n",
      "Training Dataset\n",
      "0 : 413\n",
      "1 : 387\n",
      "Validation Dataset\n",
      "0 : 87\n",
      "1 : 113\n",
      "Testing Dataset\n",
      "0 : 250\n",
      "1 : 250\n"
     ]
    }
   ],
   "source": [
    "#Training Dataset\n",
    "# Set train shuffle seed (for reproducibility)\n",
    "manual_seed(42)\n",
    "batch_size = 32\n",
    "training_samples = 500\n",
    "test_samples = 250\n",
    "\n",
    "# Use pre-defined torchvision function to load MNIST train data\n",
    "full_training_data = datasets.MNIST(\n",
    "    root=\"./data\", train=True, download=True, transform=transforms.Compose([transforms.ToTensor()])\n",
    ")\n",
    "\n",
    "subset = []\n",
    "for i in range(2):\n",
    "    idx = np.where(full_training_data.targets == i)[0][:training_samples]\n",
    "    subset.extend(idx)\n",
    "    \n",
    "full_training_data.data = full_training_data.data[subset]\n",
    "full_training_data.targets = full_training_data.targets[subset]\n",
    "\n",
    "#Split training dataset into training and validation (80%-20%)\n",
    "train_size = int(0.8 * len(full_training_data))\n",
    "valid_size = len(full_training_data) - train_size\n",
    "\n",
    "train, valid = random_split(full_training_data, [train_size, valid_size])\n",
    "\n",
    "test = datasets.MNIST(\n",
    "    root=\"./data\", train=False, download=True, transform=transforms.Compose([transforms.ToTensor()])\n",
    ")\n",
    "\n",
    "subset = []\n",
    "for i in range(2):\n",
    "    idx = np.where(full_training_data.targets == i)[0][:test_samples]\n",
    "    subset.extend(idx)\n",
    "    \n",
    "test.data = full_training_data.data[subset]\n",
    "test.targets = full_training_data.targets[subset]\n",
    "\n",
    "print(\"Train subset size:\", len(train))\n",
    "print(\"Valid subset size:\", len(valid))\n",
    "print(\"Test subset size:\", len(test))\n",
    "\n",
    "def count(dataset):\n",
    "    counter = {}\n",
    "    for i in range(len(dataset)):\n",
    "        im, class_idx = dataset[i]\n",
    "        if class_idx not in counter:\n",
    "            counter[class_idx] = 0\n",
    "        counter[class_idx] += 1\n",
    "    counter = dict(sorted(counter.items(), key=lambda x: x[0]))\n",
    "\n",
    "    for key, value in counter.items():\n",
    "        print(key, \":\", value)\n",
    "        \n",
    "print(\"Training Dataset\")\n",
    "count(train)\n",
    "\n",
    "print(\"Validation Dataset\")\n",
    "count(valid)\n",
    "\n",
    "print(\"Testing Dataset\")\n",
    "count(test)\n",
    "\n",
    "# Define torch dataloader with filtered data\n",
    "train_dataloader = DataLoader(train, batch_size=batch_size, shuffle=True)\n",
    "valid_dataloader = DataLoader(valid, batch_size=batch_size, shuffle=True)\n",
    "test_dataloader = DataLoader(test, batch_size=batch_size, shuffle=True)"
   ]
  },
  {
   "cell_type": "code",
   "execution_count": 4,
   "id": "333345bb-3854-4da9-9cfb-1cb916fc16ae",
   "metadata": {
    "tags": []
   },
   "outputs": [
    {
     "name": "stdout",
     "output_type": "stream",
     "text": [
      "The training dataset has 800 images\n",
      "After the shuffle the 0th image has class index 1\n",
      "Image shape is (28, 28, 1)\n"
     ]
    },
    {
     "data": {
      "image/png": "[encoded data removed]",
      "text/plain": [
       "<Figure size 640x480 with 1 Axes>"
      ]
     },
     "metadata": {},
     "output_type": "display_data"
    },
    {
     "name": "stdout",
     "output_type": "stream",
     "text": [
      "1\n",
      "After the shuffle the 0th image has class index 0\n",
      "Image shape is (28, 28, 1)\n"
     ]
    },
    {
     "data": {
      "image/png": "[encoded data removed]",
      "text/plain": [
       "<Figure size 640x480 with 1 Axes>"
      ]
     },
     "metadata": {},
     "output_type": "display_data"
    },
    {
     "name": "stdout",
     "output_type": "stream",
     "text": [
      "0\n"
     ]
    }
   ],
   "source": [
    "'''\n",
    "Explore the constructed dataset\n",
    "'''\n",
    "import random\n",
    "import matplotlib.pyplot as plt\n",
    "\n",
    "# Find and output the number of images\n",
    "n = len(train)\n",
    "print(f'The training dataset has {n} images')\n",
    "\n",
    "for i in range(2):\n",
    "# Randomly shuffle the image indices\n",
    "    indices = list(range(n))\n",
    "    random.shuffle(indices)\n",
    "\n",
    "    # Get the image and the class id of the 0th image after the shuffle.\n",
    "    im, class_idx = train[indices[0]]\n",
    "    \n",
    "    print(f'After the shuffle the 0th image has class index {class_idx}')\n",
    "\n",
    "    # Convert the image from an array back to a numpy 3d array\n",
    "    im_np = im.numpy().transpose((1, 2, 0))\n",
    "    print(f'Image shape is {im_np.shape}')\n",
    "\n",
    "    # Before displaying the image rescale the intensities to be between 0 and 1\n",
    "    im_min = im_np.min()\n",
    "    im_max = im_np.max()\n",
    "    im_np = (im_np - im_min) / (im_max - im_min)\n",
    "    # im_np[im_np > 0.5] = 1\n",
    "    im_np[im_np < 0.5] = 0\n",
    "\n",
    "    # Display the image\n",
    "    plt.imshow(im_np[:,:,::-1])\n",
    "    plt.axis('off')\n",
    "    plt.show()\n",
    "    print(class_idx)"
   ]
  },
  {
   "cell_type": "code",
   "execution_count": 5,
   "id": "51658527-3a83-4209-8337-d85deefc7ce4",
   "metadata": {
    "tags": []
   },
   "outputs": [
    {
     "name": "stdout",
     "output_type": "stream",
     "text": [
      "The validation dataset has 200 images\n",
      "After the shuffle the 0th image has class index 1\n",
      "Image shape is (28, 28, 1)\n"
     ]
    },
    {
     "data": {
      "image/png": "[encoded data removed]",
      "text/plain": [
       "<Figure size 640x480 with 1 Axes>"
      ]
     },
     "metadata": {},
     "output_type": "display_data"
    },
    {
     "name": "stdout",
     "output_type": "stream",
     "text": [
      "1\n",
      "After the shuffle the 0th image has class index 1\n",
      "Image shape is (28, 28, 1)\n"
     ]
    },
    {
     "data": {
      "image/png": "[encoded data removed]",
      "text/plain": [
       "<Figure size 640x480 with 1 Axes>"
      ]
     },
     "metadata": {},
     "output_type": "display_data"
    },
    {
     "name": "stdout",
     "output_type": "stream",
     "text": [
      "1\n"
     ]
    }
   ],
   "source": [
    "'''\n",
    "Explore the constructed dataset\n",
    "'''\n",
    "import random\n",
    "import matplotlib.pyplot as plt\n",
    "\n",
    "# Find and output the number of images\n",
    "n = len(valid)\n",
    "print(f'The validation dataset has {n} images')\n",
    "\n",
    "for i in range(2):\n",
    "# Randomly shuffle the image indices\n",
    "    indices = list(range(n))\n",
    "    random.shuffle(indices)\n",
    "\n",
    "    # Get the image and the class id of the 0th image after the shuffle.\n",
    "    im, class_idx = valid[indices[0]]\n",
    "    print(f'After the shuffle the 0th image has class index {class_idx}')\n",
    "\n",
    "    # Convert the image from an array back to a numpy 3d array\n",
    "    im_np = im.numpy().transpose((1, 2, 0))\n",
    "    print(f'Image shape is {im_np.shape}')\n",
    "\n",
    "    # Before displaying the image rescale the intensities to be between 0 and 1\n",
    "    im_min = im_np.min()\n",
    "    im_max = im_np.max()\n",
    "    im_np = (im_np - im_min) / (im_max - im_min)\n",
    "    # im_np[im_np > 0.5] = 1\n",
    "    im_np[im_np < 0.5] = 0\n",
    "\n",
    "    # Display the image\n",
    "    plt.imshow(im_np[:,:,::-1])\n",
    "    plt.axis('off')\n",
    "    plt.show()\n",
    "    print(class_idx)"
   ]
  },
  {
   "cell_type": "code",
   "execution_count": 6,
   "id": "168ff126-ed23-4bab-a83b-0c479bd559df",
   "metadata": {
    "tags": []
   },
   "outputs": [
    {
     "name": "stdout",
     "output_type": "stream",
     "text": [
      "The testing dataset has 500 images\n",
      "After the shuffle the 0th image has class index 0\n",
      "Image shape is (28, 28, 1)\n"
     ]
    },
    {
     "data": {
      "image/png": "[encoded data removed]",
      "text/plain": [
       "<Figure size 640x480 with 1 Axes>"
      ]
     },
     "metadata": {},
     "output_type": "display_data"
    },
    {
     "name": "stdout",
     "output_type": "stream",
     "text": [
      "0\n",
      "After the shuffle the 0th image has class index 1\n",
      "Image shape is (28, 28, 1)\n"
     ]
    },
    {
     "data": {
      "image/png": "[encoded data removed]",
      "text/plain": [
       "<Figure size 640x480 with 1 Axes>"
      ]
     },
     "metadata": {},
     "output_type": "display_data"
    },
    {
     "name": "stdout",
     "output_type": "stream",
     "text": [
      "1\n"
     ]
    }
   ],
   "source": [
    "# Find and output the number of images\n",
    "n = len(test)\n",
    "print(f'The testing dataset has {n} images')\n",
    "\n",
    "for i in range(2):\n",
    "# Randomly shuffle the image indices\n",
    "    indices = list(range(n))\n",
    "    random.shuffle(indices)\n",
    "\n",
    "    # Get the image and the class id of the 0th image after the shuffle.\n",
    "    im, class_idx = test[indices[0]]\n",
    "    print(f'After the shuffle the 0th image has class index {class_idx}')\n",
    "\n",
    "    # Convert the image from an array back to a numpy 3d array\n",
    "    im_np = im.numpy().transpose((1, 2, 0))\n",
    "    print(f'Image shape is {im_np.shape}')\n",
    "\n",
    "    # Before displaying the image rescale the intensities to be between 0 and 1\n",
    "    im_min = im_np.min()\n",
    "    im_max = im_np.max()\n",
    "    im_np = (im_np - im_min) / (im_max - im_min)\n",
    "\n",
    "    # Display the image\n",
    "    plt.imshow(im_np)\n",
    "    plt.axis('off')\n",
    "    plt.show()\n",
    "    print(class_idx)"
   ]
  },
  {
   "cell_type": "code",
   "execution_count": 7,
   "id": "bb1d03ff-f63c-4c21-a434-fca186c6a5f3",
   "metadata": {
    "tags": []
   },
   "outputs": [
    {
     "name": "stdout",
     "output_type": "stream",
     "text": [
      "Shape of X [N, C, H, W]: torch.Size([32, 1, 28, 28])\n",
      "Shape of y: torch.Size([32]) torch.int64\n",
      "Using cuda device\n"
     ]
    }
   ],
   "source": [
    "for X, y in test_dataloader:\n",
    "    print(f\"Shape of X [N, C, H, W]: {X.shape}\")\n",
    "    print(f\"Shape of y: {y.shape} {y.dtype}\")\n",
    "    break\n",
    "    \n",
    "device = \"cuda\" if torch.cuda.is_available() else \"cpu\"\n",
    "print(f\"Using {device} device\")"
   ]
  },
  {
   "cell_type": "code",
   "execution_count": 8,
   "id": "d64b077f-810d-465e-ab40-1c160d993e58",
   "metadata": {
    "tags": []
   },
   "outputs": [],
   "source": [
    "'''\n",
    "Neural Networks\n",
    "'''\n",
    "\n",
    "# # Define and create QNN\n",
    "# def create_qnn():\n",
    "#     feature_map = ZZFeatureMap(2)\n",
    "#     ansatz = RealAmplitudes(2, reps=1)\n",
    "#     qc = QuantumCircuit(2)\n",
    "#     qc.compose(feature_map, inplace=True)\n",
    "#     qc.compose(ansatz, inplace=True)\n",
    "\n",
    "#     # REMEMBER TO SET input_gradients=True FOR ENABLING HYBRID GRADIENT BACKPROP\n",
    "#     qnn = EstimatorQNN( \n",
    "#         circuit=qc,\n",
    "#         input_params=feature_map.parameters,\n",
    "#         weight_params=ansatz.parameters,\n",
    "#         input_gradients=True,\n",
    "#     )\n",
    "#     return qnn\n",
    "\n",
    "# Define torch NN module\n",
    "class Net(Module):\n",
    "    def __init__(self):\n",
    "        super().__init__()\n",
    "        self.conv1 = Conv2d(1, 2, kernel_size=5)\n",
    "        self.conv2 = Conv2d(2, 20, kernel_size=5)\n",
    "        self.dropout = Dropout2d()\n",
    "        self.fc1 = Linear(320, 64)\n",
    "        self.fc2 = Linear(64, 16)\n",
    "        self.replacement1 = Linear(16, 2)\n",
    "        self.replacement2 = Linear(2, 1)\n",
    "        #self.qnn = TorchConnector(qnn)  # Apply torch connector, weights chosen\n",
    "        self.fc3 = Linear(1, 2)\n",
    "\n",
    "    def forward(self, x):\n",
    "        x = F.relu(self.conv1(x))\n",
    "        x = F.max_pool2d(x, 2)\n",
    "        x = F.relu(self.conv2(x))\n",
    "        x = F.max_pool2d(x, 2)\n",
    "        x = self.dropout(x)\n",
    "        x = x.view(x.shape[0], -1)\n",
    "        x = F.relu(self.fc1(x))\n",
    "        x = self.fc2(x)\n",
    "        x = F.relu(self.replacement1(x))\n",
    "        #x = self.qnn(x)  # apply QNN\n",
    "        x = self.replacement2(x)\n",
    "        x = self.fc3(x)\n",
    "        return x"
   ]
  },
  {
   "cell_type": "code",
   "execution_count": 9,
   "id": "d107ac7d-2d4c-4204-978b-79d28aad2616",
   "metadata": {
    "tags": []
   },
   "outputs": [
    {
     "name": "stdout",
     "output_type": "stream",
     "text": [
      "Net(\n",
      "  (conv1): Conv2d(1, 2, kernel_size=(5, 5), stride=(1, 1))\n",
      "  (conv2): Conv2d(2, 20, kernel_size=(5, 5), stride=(1, 1))\n",
      "  (dropout): Dropout2d(p=0.5, inplace=False)\n",
      "  (fc1): Linear(in_features=320, out_features=64, bias=True)\n",
      "  (fc2): Linear(in_features=64, out_features=16, bias=True)\n",
      "  (replacement1): Linear(in_features=16, out_features=2, bias=True)\n",
      "  (replacement2): Linear(in_features=2, out_features=1, bias=True)\n",
      "  (fc3): Linear(in_features=1, out_features=2, bias=True)\n",
      ")\n",
      "torch.Size([2, 1, 5, 5])\n",
      "torch.Size([2])\n",
      "torch.Size([20, 2, 5, 5])\n",
      "torch.Size([20])\n",
      "torch.Size([64, 320])\n",
      "torch.Size([64])\n",
      "torch.Size([16, 64])\n",
      "torch.Size([16])\n",
      "torch.Size([2, 16])\n",
      "torch.Size([2])\n",
      "torch.Size([1, 2])\n",
      "torch.Size([1])\n",
      "torch.Size([2, 1])\n",
      "torch.Size([2])\n",
      "\n",
      "torch.Size([32, 2])\n"
     ]
    }
   ],
   "source": [
    "#qnn4 = create_qnn()\n",
    "model4 = Net().to(device)\n",
    "\n",
    "print(model4)\n",
    "for p in model4.parameters():\n",
    "    print(p.size())\n",
    "    \n",
    "print()\n",
    "mb = torch.rand(batch_size, 1, 28, 28).to(device)\n",
    "logits = model4.forward(mb)\n",
    "print(logits.size())"
   ]
  },
  {
   "cell_type": "code",
   "execution_count": 10,
   "id": "cb27a5bd-8b0a-4f1d-aec2-0e94b3395afd",
   "metadata": {
    "tags": []
   },
   "outputs": [],
   "source": [
    "def train(dataloader, model, loss_fn, optimizer):\n",
    "    size = len(dataloader.dataset)\n",
    "    model.train()\n",
    "    training_loss = 0.0\n",
    "    total_loss = []\n",
    "    for batch, (X, y) in enumerate(dataloader):\n",
    "        X, y = X.to(device), y.to(device)\n",
    "        \n",
    "        # Compute prediction error\n",
    "        pred = model(X)\n",
    "        loss = loss_fn(pred, y)\n",
    "        # Backpropagation\n",
    "        optimizer.zero_grad()\n",
    "        loss.backward()\n",
    "        optimizer.step()\n",
    "        \n",
    "        training_loss += loss.item()\n",
    "        total_loss.append(loss.item())\n",
    "    training_loss /= len(dataloader)\n",
    "    return total_loss, training_loss\n",
    "\n",
    "def validate(dataloader, model, loss_fn):\n",
    "    size = len(dataloader.dataset)\n",
    "    num_batches = len(dataloader)\n",
    "    model.eval()\n",
    "    test_loss, correct = 0, 0\n",
    "    #so that we do not compute gradients, only model performance\n",
    "    with torch.no_grad():\n",
    "        for X, y in dataloader:\n",
    "            X, y = X.to(device), y.to(device)\n",
    "            output = model(X)\n",
    "            pred = output.argmax(dim=1, keepdim=True)\n",
    "            correct += pred.eq(y.view_as(pred)).sum().item()\n",
    "            test_loss += loss_fn(output, y)\n",
    "    test_loss /= num_batches\n",
    "    correct /= size\n",
    "    return correct\n",
    "\n",
    "def time_elapsed(start):\n",
    "    delta = datetime.now() - start\n",
    "    m, s = divmod(delta.seconds, 60)\n",
    "    h, m = divmod(m, 60)\n",
    "    return f'Time elapsed: {h}h {m}m {int(s)}s'"
   ]
  },
  {
   "cell_type": "code",
   "execution_count": 11,
   "id": "b01c288f-d568-4589-b237-67d0c3304498",
   "metadata": {
    "tags": []
   },
   "outputs": [
    {
     "name": "stdout",
     "output_type": "stream",
     "text": [
      "Epoch: 0\n",
      "Accuracy: 0.565\n",
      "Training [2%]\tLoss: 0.7049\n",
      "Time elapsed: 0h 0m 0s\n",
      "\n",
      "Training [4%]\tLoss: 0.7048\n",
      "Time elapsed: 0h 0m 0s\n",
      "\n",
      "Training [6%]\tLoss: 0.7048\n",
      "Time elapsed: 0h 0m 0s\n",
      "\n",
      "Training [8%]\tLoss: 0.7047\n",
      "Time elapsed: 0h 0m 0s\n",
      "\n",
      "Training [10%]\tLoss: 0.7047\n",
      "Time elapsed: 0h 0m 0s\n",
      "\n",
      "Training [12%]\tLoss: 0.7047\n",
      "Time elapsed: 0h 0m 1s\n",
      "\n",
      "Training [14%]\tLoss: 0.7046\n",
      "Time elapsed: 0h 0m 1s\n",
      "\n",
      "Training [16%]\tLoss: 0.7046\n",
      "Time elapsed: 0h 0m 1s\n",
      "\n",
      "Training [18%]\tLoss: 0.7046\n",
      "Time elapsed: 0h 0m 1s\n",
      "\n",
      "Training [20%]\tLoss: 0.7045\n",
      "Time elapsed: 0h 0m 1s\n",
      "\n",
      "Training [22%]\tLoss: 0.7045\n",
      "Time elapsed: 0h 0m 1s\n",
      "\n",
      "Training [24%]\tLoss: 0.7044\n",
      "Time elapsed: 0h 0m 2s\n",
      "\n",
      "Training [26%]\tLoss: 0.7044\n",
      "Time elapsed: 0h 0m 2s\n",
      "\n",
      "Training [28%]\tLoss: 0.7044\n",
      "Time elapsed: 0h 0m 2s\n",
      "\n",
      "Training [30%]\tLoss: 0.7043\n",
      "Time elapsed: 0h 0m 2s\n",
      "\n",
      "Training [32%]\tLoss: 0.7043\n",
      "Time elapsed: 0h 0m 2s\n",
      "\n",
      "Training [34%]\tLoss: 0.7043\n",
      "Time elapsed: 0h 0m 3s\n",
      "\n",
      "Training [36%]\tLoss: 0.7042\n",
      "Time elapsed: 0h 0m 3s\n",
      "\n",
      "Training [38%]\tLoss: 0.7042\n",
      "Time elapsed: 0h 0m 3s\n",
      "\n",
      "Training [40%]\tLoss: 0.7042\n",
      "Time elapsed: 0h 0m 3s\n",
      "\n",
      "Training [42%]\tLoss: 0.7041\n",
      "Time elapsed: 0h 0m 3s\n",
      "\n",
      "Training [44%]\tLoss: 0.7041\n",
      "Time elapsed: 0h 0m 4s\n",
      "\n",
      "Training [46%]\tLoss: 0.7041\n",
      "Time elapsed: 0h 0m 4s\n",
      "\n",
      "Training [48%]\tLoss: 0.7040\n",
      "Time elapsed: 0h 0m 4s\n",
      "\n",
      "Training [50%]\tLoss: 0.7040\n",
      "Time elapsed: 0h 0m 4s\n",
      "\n",
      "Training [52%]\tLoss: 0.7039\n",
      "Time elapsed: 0h 0m 4s\n",
      "\n",
      "Training [54%]\tLoss: 0.7039\n",
      "Time elapsed: 0h 0m 5s\n",
      "\n",
      "Training [56%]\tLoss: 0.7039\n",
      "Time elapsed: 0h 0m 5s\n",
      "\n",
      "Training [58%]\tLoss: 0.7038\n",
      "Time elapsed: 0h 0m 5s\n",
      "\n",
      "Training [60%]\tLoss: 0.7038\n",
      "Time elapsed: 0h 0m 5s\n",
      "\n",
      "Training [62%]\tLoss: 0.7038\n",
      "Time elapsed: 0h 0m 5s\n",
      "\n",
      "Training [64%]\tLoss: 0.7037\n",
      "Time elapsed: 0h 0m 6s\n",
      "\n",
      "Training [66%]\tLoss: 0.7037\n",
      "Time elapsed: 0h 0m 6s\n",
      "\n",
      "Training [68%]\tLoss: 0.7037\n",
      "Time elapsed: 0h 0m 6s\n",
      "\n",
      "Training [70%]\tLoss: 0.7036\n",
      "Time elapsed: 0h 0m 6s\n",
      "\n",
      "Training [72%]\tLoss: 0.7036\n",
      "Time elapsed: 0h 0m 6s\n",
      "\n",
      "Training [74%]\tLoss: 0.7036\n",
      "Time elapsed: 0h 0m 7s\n",
      "\n",
      "Training [76%]\tLoss: 0.7035\n",
      "Time elapsed: 0h 0m 7s\n",
      "\n",
      "Training [78%]\tLoss: 0.7035\n",
      "Time elapsed: 0h 0m 7s\n",
      "\n",
      "Training [80%]\tLoss: 0.7035\n",
      "Time elapsed: 0h 0m 7s\n",
      "\n",
      "Training [82%]\tLoss: 0.7034\n",
      "Time elapsed: 0h 0m 7s\n",
      "\n",
      "Training [84%]\tLoss: 0.7034\n",
      "Time elapsed: 0h 0m 7s\n",
      "\n",
      "Training [86%]\tLoss: 0.7034\n",
      "Time elapsed: 0h 0m 8s\n",
      "\n",
      "Training [88%]\tLoss: 0.7033\n",
      "Time elapsed: 0h 0m 8s\n",
      "\n",
      "Training [90%]\tLoss: 0.7033\n",
      "Time elapsed: 0h 0m 8s\n",
      "\n",
      "Training [92%]\tLoss: 0.7033\n",
      "Time elapsed: 0h 0m 8s\n",
      "\n",
      "Training [94%]\tLoss: 0.7032\n",
      "Time elapsed: 0h 0m 8s\n",
      "\n",
      "Training [96%]\tLoss: 0.7032\n",
      "Time elapsed: 0h 0m 9s\n",
      "\n",
      "Training [98%]\tLoss: 0.7032\n",
      "Time elapsed: 0h 0m 9s\n",
      "\n",
      "Training [100%]\tLoss: 0.7031\n",
      "Time elapsed: 0h 0m 9s\n",
      "\n",
      "Done!\n"
     ]
    }
   ],
   "source": [
    "from torch import nn\n",
    "from datetime import datetime\n",
    "\n",
    "loss_fn = nn.CrossEntropyLoss()\n",
    "# loss_fn = NLLLoss()\n",
    "optimizer = torch.optim.SGD(model4.parameters(), lr=1e-4)\n",
    "# optimizer = optim.Adam(model4.parameters(), lr=0.001)\n",
    "\n",
    "epochs = 50\n",
    "loss_list = []  # Store loss history\n",
    "start = datetime.now()\n",
    "# for epoch in range(epochs):\n",
    "#     total_loss = []\n",
    "#     for batch_idx, (data, target) in enumerate(train_dataloader):\n",
    "#         optimizer.zero_grad(set_to_none=True)  # Initialize gradient\n",
    "#         output = model4(data)  # Forward pass\n",
    "#         loss = loss_fn(output, target)  # Calculate loss\n",
    "#         loss.backward()  # Backward pass\n",
    "#         optimizer.step()  # Optimize weights\n",
    "#         total_loss.append(loss.item())  # Store loss\n",
    "#     loss_list.append(sum(total_loss) / len(total_loss))\n",
    "#     print(\"Training [{:.0f}%]\\tLoss: {:.4f}\".format(100.0 * (epoch + 1) / epochs, loss_list[-1]))\n",
    "\n",
    "best_accuracy = 0\n",
    "best_model = 'best_model.pth'\n",
    "\n",
    "for epoch in range(epochs):\n",
    "    total_loss, training_loss = train(train_dataloader, model4, loss_fn, optimizer)\n",
    "    validation_accuracy = validate(valid_dataloader, model4, loss_fn)\n",
    "    if (validation_accuracy > best_accuracy):\n",
    "        best_accuracy = validation_accuracy\n",
    "        #save the model \n",
    "        torch.save(model4, best_model)\n",
    "        print(\"Epoch:\", epoch)\n",
    "        # print(\"Training Loss:\", training_loss)\n",
    "        print(\"Accuracy:\", best_accuracy)\n",
    "    loss_list.append(sum(total_loss) / len(total_loss))\n",
    "    print(\"Training [{:.0f}%]\\tLoss: {:.4f}\".format(100.0 * (epoch + 1) / epochs, loss_list[-1]))\n",
    "    print(time_elapsed(start))\n",
    "    print()\n",
    "print(\"Done!\")"
   ]
  },
  {
   "cell_type": "code",
   "execution_count": 12,
   "id": "3d139597-72e3-49d7-88ea-4084bece3d93",
   "metadata": {
    "tags": []
   },
   "outputs": [
    {
     "data": {
      "image/png": "[encoded data removed]",
      "text/plain": [
       "<Figure size 640x480 with 1 Axes>"
      ]
     },
     "metadata": {},
     "output_type": "display_data"
    }
   ],
   "source": [
    "#Plot loss convergence\n",
    "plt.plot(loss_list)\n",
    "plt.title(\"NN Training Convergence\")\n",
    "plt.xlabel(\"Training Iterations\")\n",
    "plt.ylabel(\"Cross Entropy Loss\")\n",
    "plt.show()"
   ]
  },
  {
   "cell_type": "code",
   "execution_count": 13,
   "id": "3dd74355-841d-4df7-8629-7e6314ce6742",
   "metadata": {},
   "outputs": [
    {
     "name": "stdout",
     "output_type": "stream",
     "text": [
      "Performance on test data:\n",
      "\tLoss: 0.7020\n",
      "\tAccuracy: 48.8%\n"
     ]
    }
   ],
   "source": [
    "def test(dataloader, model, loss_fn):\n",
    "    model.eval()\n",
    "    correct = 0.0\n",
    "    with torch.no_grad():\n",
    "        for batch_idx, (X, y) in enumerate(dataloader):\n",
    "            X, y = X.to(device), y.to(device)\n",
    "            output = model5(X)\n",
    "            \n",
    "            if len(output.shape) == 1:\n",
    "                output = output.reshape(1, *output.shape)\n",
    "\n",
    "            pred = output.argmax(dim=1, keepdim=True)\n",
    "            correct += pred.eq(y.view_as(pred)).sum().item()\n",
    "\n",
    "            loss = loss_fn(output, y)\n",
    "            total_loss.append(loss.item())\n",
    "\n",
    "        print(\n",
    "            \"Performance on test data:\\n\\tLoss: {:.4f}\\n\\tAccuracy: {:.1f}%\".format(\n",
    "                sum(total_loss) / len(total_loss), correct / len(dataloader) / batch_size * 100\n",
    "            )\n",
    "        )\n",
    "\n",
    "# qnn5 = create_qnn()\n",
    "model5 = Net().to(device)\n",
    "model5 = torch.load(best_model)\n",
    "test(test_dataloader, model5, loss_fn)"
   ]
  },
  {
   "cell_type": "code",
   "execution_count": 15,
   "id": "7dcc1dc3",
   "metadata": {},
   "outputs": [
    {
     "data": {
      "image/png": "[encoded data removed]",
      "text/plain": [
       "<Figure size 1500x400 with 16 Axes>"
      ]
     },
     "metadata": {},
     "output_type": "display_data"
    }
   ],
   "source": [
    "# Plot predicted labels\n",
    "n_samples_show = 8\n",
    "n_rows = 2\n",
    "count = 0\n",
    "fig, axes = plt.subplots(nrows=n_rows, ncols=n_samples_show, figsize=(15, 4))\n",
    "\n",
    "model5.eval()\n",
    "with no_grad():\n",
    "    for batch_idx, (data, target) in enumerate(test_dataloader):\n",
    "        data, target = data.to(device), target.to(device)\n",
    "        if count == n_samples_show * n_rows:\n",
    "            break\n",
    "        output = model5(data[0:1])\n",
    "        if len(output.shape) == 1:\n",
    "            output = output.reshape(1, *output.shape)\n",
    "\n",
    "        pred = output.argmax(dim=1, keepdim=True)\n",
    "        \n",
    "        row = count // n_samples_show  # Calculate row index\n",
    "        col = count % n_samples_show  # Calculate column index\n",
    "\n",
    "        axes[row, col].imshow(data[0].cpu().numpy().squeeze(), cmap=\"gray\")\n",
    "\n",
    "        axes[row, col].set_xticks([])\n",
    "        axes[row, col].set_yticks([])\n",
    "        axes[row, col].set_title(\"Predicted {}\".format(pred.item()))\n",
    "\n",
    "        count += 1"
   ]
  },
  {
   "cell_type": "code",
   "execution_count": null,
   "id": "39db68d7",
   "metadata": {},
   "outputs": [],
   "source": []
  }
 ],
 "metadata": {
  "kernelspec": {
   "display_name": "Python 3 (ipykernel)",
   "language": "python",
   "name": "python3"
  },
  "language_info": {
   "codemirror_mode": {
    "name": "ipython",
    "version": 3
   },
   "file_extension": ".py",
   "mimetype": "text/x-python",
   "name": "python",
   "nbconvert_exporter": "python",
   "pygments_lexer": "ipython3",
   "version": "3.9.18"
  }
 },
 "nbformat": 4,
 "nbformat_minor": 5
}
